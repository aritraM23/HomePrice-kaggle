{
  "nbformat": 4,
  "nbformat_minor": 0,
  "metadata": {
    "colab": {
      "name": "Model_HousePrice.ipynb",
      "provenance": [],
      "authorship_tag": "ABX9TyNHyeCCKdwDrsq4oPilN+cm",
      "include_colab_link": true
    },
    "kernelspec": {
      "name": "python3",
      "display_name": "Python 3"
    },
    "language_info": {
      "name": "python"
    }
  },
  "cells": [
    {
      "cell_type": "markdown",
      "metadata": {
        "id": "view-in-github",
        "colab_type": "text"
      },
      "source": [
        "<a href=\"https://colab.research.google.com/github/devilishAM/HomePrice-kaggle/blob/main/Model_HousePrice.ipynb\" target=\"_parent\"><img src=\"https://colab.research.google.com/assets/colab-badge.svg\" alt=\"Open In Colab\"/></a>"
      ]
    },
    {
      "cell_type": "code",
      "metadata": {
        "id": "VPqhx5QCeA2k"
      },
      "source": [
        "import pandas as pd\n",
        "from sklearn.model_selection import train_test_split\n",
        "\n",
        "#read data\n",
        "X = pd.read_csv('train.csv', index_col = 'Id')\n",
        "X_test_full = pd.read_csv('test.csv', index_col='Id')\n",
        "\n",
        "#removing rows with missing target, target kept seperate\n",
        "X.dropna(axis=0, subset=['SalePrice'], inplace=True)\n",
        "y = X.SalePrice              \n",
        "X.drop(['SalePrice'], axis=1, inplace=True)\n",
        "\n",
        "# Break off validation set from training data\n",
        "X_train_full, X_valid_full, y_train, y_valid = train_test_split(X, y, train_size=0.8, test_size=0.2,random_state=0)\n",
        "\n",
        "# \"Cardinality\" means the number of unique values in a column\n",
        "# Select categorical columns with relatively low cardinality (convenient but arbitrary)\n",
        "low_cardinality_cols = [cname for cname in X_train_full.columns if X_train_full[cname].nunique() < 10 and \n",
        "                        X_train_full[cname].dtype == \"object\"]\n",
        "\n",
        "numeric_cols = [cname for cname in X_train_full.columns if X_train_full[cname].dtype in ['int64', 'float64']]\n",
        "\n",
        "# Keep selected columns only\n",
        "my_cols = low_cardinality_cols + numeric_cols\n",
        "X_train = X_train_full[my_cols].copy()\n",
        "X_valid = X_valid_full[my_cols].copy()\n",
        "X_test = X_test_full[my_cols].copy()\n",
        "\n",
        "# One-hot encode the data (to shorten the code, we use pandas)\n",
        "X_train = pd.get_dummies(X_train)\n",
        "X_valid = pd.get_dummies(X_valid)\n",
        "X_test = pd.get_dummies(X_test)\n",
        "X_train, X_valid = X_train.align(X_valid, join='left', axis=1)\n",
        "X_train, X_test = X_train.align(X_test, join='left', axis=1)"
      ],
      "execution_count": null,
      "outputs": []
    },
    {
      "cell_type": "code",
      "metadata": {
        "colab": {
          "base_uri": "https://localhost:8080/"
        },
        "id": "-glU6sA3fpyh",
        "outputId": "cdb15c73-d021-41ca-dba4-d9fd6d3087aa"
      },
      "source": [
        "from sklearn.metrics import mean_absolute_error\n",
        "from xgboost import XGBRegressor\n",
        "\n",
        "#define the model\n",
        "my_model = XGBRegressor(n_estimators= 2000, learning_rate= 0.05)\n",
        "\n",
        "#fit the model\n",
        "my_model.fit(X_train, y_train, \n",
        "             early_stopping_rounds=200, \n",
        "             eval_set=[(X_valid, y_valid)], \n",
        "             verbose=False) \n",
        "#16026.8681640625\n",
        "predictions = my_model.predict(X_valid)\n",
        "\n",
        "print(\"mean absolute error is : \" + str(mean_absolute_error(predictions, y_valid)) )"
      ],
      "execution_count": null,
      "outputs": [
        {
          "output_type": "stream",
          "text": [
            "[18:11:36] WARNING: /workspace/src/objective/regression_obj.cu:152: reg:linear is now deprecated in favor of reg:squarederror.\n",
            "mean absolute error is : 16073.577108304795\n"
          ],
          "name": "stdout"
        }
      ]
    },
    {
      "cell_type": "code",
      "metadata": {
        "id": "OAjwGDQHgnyP"
      },
      "source": [
        "final_pred = my_model.predict(X_test)\n",
        "\n",
        "output = pd.DataFrame({'Id': X_test.index,\n",
        "                       'SalePrice': final_pred})\n",
        "output.to_csv('submission5.csv', index=False)"
      ],
      "execution_count": null,
      "outputs": []
    }
  ]
}